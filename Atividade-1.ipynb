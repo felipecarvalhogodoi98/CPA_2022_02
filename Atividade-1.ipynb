{
  "cells": [
    {
      "cell_type": "markdown",
      "metadata": {
        "id": "XAdlKnDBj5uB"
      },
      "source": [
        "# EFC1 GCC253 - Complexidade e Projeto de Algoritmos - 5 pontos.\n",
        "\n",
        "\n",
        "> **Prof.: Douglas H. S. Abreu**\n",
        "\n",
        "\n",
        "**Aluno**: </br>\n",
        "Pedro Henrique dos Santos Mateus </br>\n",
        "\n",
        "Felipe Carvalho Godoi\n",
        "\n",
        "**Matricula**: </br>\n",
        "201910948 </br>\n",
        "\n",
        "201920237\n",
        "\n",
        "**Turma**: 10A\n",
        "\n",
        "Link do repositório GitHub: \n",
        "\n",
        "● O trabalho deve ser feito em grupos de no máximo 4 componentes (Apenas um deve enviar a atividade no Campus Virtual)\n",
        "\n",
        "● Trabalhos entregues após a data limite não serão aceitos\n",
        "\n",
        "● Data limite de entrega: 20 de Novembro de 2022 : 23h55m\n",
        "\n",
        "● Enviar o trabalho para o campus virtual, do seguinte modo: link do repositório GitHub com acesso ao Notebook.\n",
        "\n",
        "● O trabalho deve ser desenvolvido no modelo Notebook utilizando preferencialmente a linguagem Python"
      ]
    },
    {
      "cell_type": "markdown",
      "metadata": {
        "id": "J3d6JlRUxREN"
      },
      "source": [
        "# Importações e Variáveis globais"
      ]
    },
    {
      "cell_type": "code",
      "execution_count": 19,
      "metadata": {
        "id": "Ur1DVGQAxac4"
      },
      "outputs": [],
      "source": [
        "import numpy as np\n",
        "\n",
        "global_1=0\n",
        "\n",
        "def generateArray(size, min, max):\n",
        "  arr = np.array(np.random.randint(min,max))\n",
        "  for i in range(size - 1):\n",
        "      n1 = np.array(np.random.randint(min,max))\n",
        "      arr = np.append(arr,n1)\n",
        "  return arr"
      ]
    },
    {
      "cell_type": "markdown",
      "metadata": {
        "id": "kPNpzNYwkKAO"
      },
      "source": [
        "# Funções de Ordenação\n",
        "\n",
        "> Utilize este espaço para definir as funções de ordenação.\n",
        "\n"
      ]
    },
    {
      "cell_type": "markdown",
      "metadata": {
        "id": "nEw1UEsmoKMg"
      },
      "source": [
        "##  Insertion Sort\n"
      ]
    },
    {
      "cell_type": "code",
      "execution_count": 2,
      "metadata": {
        "id": "kbOrhdB-j_px"
      },
      "outputs": [],
      "source": [
        "def insertionSort(vetor):\n",
        "  for j in range(1,len(vetor)):\n",
        "    chave = vetor[j]\n",
        "    i = j - 1\n",
        "    while i >= 0 and vetor[i] > chave:\n",
        "      vetor[i+1] = vetor[i]\n",
        "      i = i - 1\n",
        "    vetor[i+1] = chave\n",
        "  return vetor"
      ]
    },
    {
      "cell_type": "markdown",
      "metadata": {
        "id": "9a-wJwU-wtmQ"
      },
      "source": [
        "##  Merge Sort\n"
      ]
    },
    {
      "cell_type": "code",
      "execution_count": 80,
      "metadata": {
        "id": "8cgIJ_4EwbPN"
      },
      "outputs": [],
      "source": [
        "def intercala(vetor,p,q,r):\n",
        "  esquerda = np.copy(vetor[p:q])\n",
        "  direita = np.copy(vetor[q:r])\n",
        "  \n",
        "  i,j = 0,0\n",
        "  \n",
        "  for k in range(p,r):\n",
        "    if(i>=len(esquerda)):\n",
        "      vetor[k] = direita[j]\n",
        "      j = j+1\n",
        "    elif(j>=len(direita)):\n",
        "      vetor[k] = esquerda[i]\n",
        "      i = i+1\n",
        "\n",
        "    elif esquerda[i] < direita[j]:\n",
        "      vetor[k] = esquerda[i]\n",
        "      i = i+1\n",
        "    else:\n",
        "      vetor[k] = direita[j]\n",
        "      j = j+1 \n",
        "\n",
        "def mergeSort(vetor,p=0,r=None):\n",
        "  if r is None:\n",
        "    r = len(vetor)\n",
        "  if (r - p) > 1:\n",
        "    q = (p+r)//2\n",
        "    mergeSort(vetor,p,q)\n",
        "    mergeSort(vetor,q,r)\n",
        "    intercala(vetor,p,q,r)\n",
        "  return vetor"
      ]
    },
    {
      "cell_type": "markdown",
      "metadata": {
        "id": "8dWpeYUvw-wU"
      },
      "source": [
        "##  Selection Sort\n"
      ]
    },
    {
      "cell_type": "code",
      "execution_count": 4,
      "metadata": {
        "id": "vNgUDShawygu"
      },
      "outputs": [],
      "source": [
        "def selectionSort(A):\n",
        "  for j in range(0, len(A) - 1):\n",
        "    menor = A[j]\n",
        "    pos = j\n",
        "    for i in range(j+1, len(A)):\n",
        "      if(A[i] < menor):\n",
        "        menor = A[i]\n",
        "        pos = i\n",
        "    \n",
        "    A[pos] = A[j]\n",
        "    A[j] = menor\n",
        "\n",
        "  return A "
      ]
    },
    {
      "cell_type": "markdown",
      "metadata": {
        "id": "zNI1kX0yyDrs"
      },
      "source": [
        "##  Bubble Sort\n"
      ]
    },
    {
      "cell_type": "code",
      "execution_count": 5,
      "metadata": {
        "id": "6X_zk1yWxMQS"
      },
      "outputs": [],
      "source": [
        "def bubbleSort(vetor):\n",
        "  for i in range(0,len(vetor)):\n",
        "    for j in range(0,len(vetor)-i-1):\n",
        "      if vetor[j] > vetor[j+1]:\n",
        "         (vetor[j], vetor[j+1]) = (vetor[j+1], vetor[j])\n",
        "  \n",
        "  return vetor"
      ]
    },
    {
      "cell_type": "markdown",
      "metadata": {
        "id": "vk4vOTkKyLB-"
      },
      "source": [
        "## Heap Sort"
      ]
    },
    {
      "cell_type": "code",
      "execution_count": 6,
      "metadata": {
        "id": "39a7xXzLyH9g"
      },
      "outputs": [],
      "source": [
        "def arrumaHeap(vetor, tamanho, i):\n",
        "    pai = i\n",
        "    filhoEsq = 2 * i + 1\n",
        "    filhoDir = 2 * i + 2\n",
        " \n",
        " \n",
        "    if filhoEsq < tamanho and vetor[pai] < vetor[filhoEsq]:\n",
        "        pai = filhoEsq\n",
        " \n",
        " \n",
        "    if filhoDir < tamanho and vetor[pai] < vetor[filhoDir]:\n",
        "        pai = filhoDir\n",
        " \n",
        " \n",
        "    if pai != i:\n",
        "        (vetor[i], vetor[pai]) = (vetor[pai], vetor[i])\n",
        "        arrumaHeap(vetor, tamanho, pai)\n",
        "\n",
        "\n",
        "\n",
        "\n",
        "def heapSort(vetor):\n",
        "  tamanho = len(vetor)\n",
        "  \n",
        "  for i in range(tamanho // 2 - 1, -1, -1):\n",
        "    arrumaHeap(vetor, tamanho, i)\n",
        "  \n",
        "  for i in range(tamanho - 1, 0, -1):\n",
        "    (vetor[i], vetor[0]) = (vetor[0], vetor[i])\n",
        "    arrumaHeap(vetor, i, 0)\n",
        "  \n",
        "  return vetor"
      ]
    },
    {
      "cell_type": "markdown",
      "metadata": {
        "id": "fFiGho5CyU3t"
      },
      "source": [
        "## Quick Sort com pivo sendo o ultimo elemento do arranjo\n",
        "\n",
        "> pivo = *A[A-comprimento]*"
      ]
    },
    {
      "cell_type": "code",
      "execution_count": 7,
      "metadata": {
        "id": "1Ie_N5CRyKY7"
      },
      "outputs": [],
      "source": [
        "def partition(vetor,p,r):\n",
        "  pivo = vetor[r]\n",
        "  i = p-1\n",
        "  for j in range(p,r):\n",
        "    if vetor[j]<=pivo:\n",
        "      i = i+1\n",
        "      (vetor[i], vetor[j]) = (vetor[j], vetor[i])\n",
        "  \n",
        "  (vetor[i+1], vetor[r]) = (vetor[r], vetor[i+1])\n",
        "  return i + 1\n",
        "\n",
        "\n",
        "\n",
        "\n",
        "def quickSort(vetor,p=0,r=None):\n",
        "  if r is None:\n",
        "    r = len(vetor)-1\n",
        "  if p < r:\n",
        "    q = partition(vetor,p,r)\n",
        "    quickSort(vetor,p,q-1)\n",
        "    quickSort(vetor,q+1,r)\n",
        "  \n",
        "  return vetor"
      ]
    },
    {
      "cell_type": "markdown",
      "metadata": {
        "id": "VomdAnCrzEv1"
      },
      "source": [
        "# Questões"
      ]
    },
    {
      "cell_type": "markdown",
      "metadata": {
        "id": "3QKV979kzItD"
      },
      "source": [
        "\n",
        "\n",
        "1.   Escolha pelo menos 3 arranjos. Ex: ***A[5,...,1000,...,100]*** e mostre o funcionamento dos Algoritmos realizando a ordenação.\n",
        "\n",
        "\n",
        "\n"
      ]
    },
    {
      "cell_type": "code",
      "execution_count": 81,
      "metadata": {
        "colab": {
          "base_uri": "https://localhost:8080/"
        },
        "id": "nBfs279_1Vko",
        "outputId": "47cda34d-35cf-4a38-a8e7-fd2567d0b33b"
      },
      "outputs": [
        {
          "name": "stdout",
          "output_type": "stream",
          "text": [
            "initial array [785 313 359 353 571 231 713 653  14 313]\n",
            "Insertion sort\n",
            "[ 14 231 313 313 353 359 571 653 713 785]\n",
            "Merge sort\n",
            "[ 14 231 313 313 353 359 571 653 713 785]\n",
            "Selection sort\n",
            "[ 14 231 313 313 353 359 571 653 713 785]\n",
            "Bubble sort\n",
            "[ 14 231 313 313 353 359 571 653 713 785]\n",
            "Heap sort\n",
            "[ 14 231 313 313 353 359 571 653 713 785]\n",
            "Quick sort\n",
            "[ 14 231 313 313 353 359 571 653 713 785]\n",
            "\n",
            "\n",
            "initial array [ 67 699 999  94 163]\n",
            "Insertion sort\n",
            "[ 67  94 163 699 999]\n",
            "Merge sort\n",
            "[ 67  94 163 699 999]\n",
            "Selection sort\n",
            "[ 67  94 163 699 999]\n",
            "Bubble sort\n",
            "[ 67  94 163 699 999]\n",
            "Heap sort\n",
            "[ 67  94 163 699 999]\n",
            "Quick sort\n",
            "[ 67  94 163 699 999]\n",
            "\n",
            "\n",
            "initial array [235 798 547 540 786 359 946]\n",
            "Insertion sort\n",
            "[235 359 540 547 786 798 946]\n",
            "Merge sort\n",
            "[235 359 540 547 786 798 946]\n",
            "Selection sort\n",
            "[235 359 540 547 786 798 946]\n",
            "Bubble sort\n",
            "[235 359 540 547 786 798 946]\n",
            "Heap sort\n",
            "[235 359 540 547 786 798 946]\n",
            "Quick sort\n",
            "[235 359 540 547 786 798 946]\n"
          ]
        }
      ],
      "source": [
        "def testSort(array):\n",
        "  print(f'initial array {array}')\n",
        "  print('Insertion sort')\n",
        "  print(insertionSort(np.copy(array)))\n",
        "\n",
        "  print('Merge sort')\n",
        "  print(mergeSort(np.copy(array)))\n",
        "\n",
        "  print('Selection sort')\n",
        "  print(selectionSort(np.copy(array)))\n",
        "\n",
        "  print('Bubble sort')\n",
        "  print(bubbleSort(np.copy(array)))\n",
        "\n",
        "  print('Heap sort')\n",
        "  print(heapSort(np.copy(array)))\n",
        "  \n",
        "  print('Quick sort')\n",
        "  print(quickSort(np.copy(array)))\n",
        "\n",
        "ARRAY1 = generateArray(10, 0, 1000)\n",
        "ARRAY2 = generateArray(5, 0, 1000)\n",
        "ARRAY3 = generateArray(7, 0, 1000)\n",
        "\n",
        "testSort(ARRAY1)\n",
        "print('\\n')\n",
        "testSort(ARRAY2)\n",
        "print('\\n')\n",
        "testSort(ARRAY3)"
      ]
    }
  ],
  "metadata": {
    "colab": {
      "provenance": [],
      "toc_visible": true
    },
    "kernelspec": {
      "display_name": "Python 3.8.10 64-bit",
      "language": "python",
      "name": "python3"
    },
    "language_info": {
      "name": "python",
      "version": "3.8.10"
    },
    "vscode": {
      "interpreter": {
        "hash": "916dbcbb3f70747c44a77c7bcd40155683ae19c65e1c03b4aa3499c5328201f1"
      }
    }
  },
  "nbformat": 4,
  "nbformat_minor": 0
}
