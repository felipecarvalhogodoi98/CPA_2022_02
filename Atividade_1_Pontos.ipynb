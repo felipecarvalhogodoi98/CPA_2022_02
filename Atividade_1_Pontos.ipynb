{
  "cells": [
    {
      "cell_type": "markdown",
      "metadata": {
        "id": "XAdlKnDBj5uB"
      },
      "source": [
        "# EFC1 GCC253 - Complexidade e Projeto de Algoritmos - 5 pontos.\n",
        "\n",
        "\n",
        "> **Prof.: Douglas H. S. Abreu**\n",
        "\n",
        "\n",
        "**Aluno**: Felipe Carvalho Godoi\n",
        "\n",
        "**Matricula**: 201920237\n",
        "\n",
        "**Turma**: 10A, 14A\n",
        "\n",
        "Link do repositório GitHub: \n",
        "\n",
        "● O trabalho deve ser feito em grupos de no máximo 4 componentes (Apenas um deve enviar a atividade no Campus Virtual)\n",
        "\n",
        "● Trabalhos entregues após a data limite não serão aceitos\n",
        "\n",
        "● Data limite de entrega: 20 de Novembro de 2022 : 23h55m\n",
        "\n",
        "● Enviar o trabalho para o campus virtual, do seguinte modo: link do repositório GitHub com acesso ao Notebook.\n",
        "\n",
        "● O trabalho deve ser desenvolvido no modelo Notebook utilizando preferencialmente a linguagem Python"
      ]
    },
    {
      "cell_type": "markdown",
      "metadata": {
        "id": "J3d6JlRUxREN"
      },
      "source": [
        "# Importações e Variáveis globais"
      ]
    },
    {
      "cell_type": "code",
      "execution_count": 3,
      "metadata": {
        "id": "Ur1DVGQAxac4"
      },
      "outputs": [],
      "source": [
        "import numpy as np\n",
        "\n",
        "global_1=0\n",
        "\n",
        "def generateArray(size, min, max):\n",
        "  arr = np.array(np.random.randint(min,max))\n",
        "  for i in range(size):\n",
        "      n1 = np.array(np.random.randint(min,max))\n",
        "      arr = np.append(arr,n1)\n",
        "  return arr"
      ]
    },
    {
      "cell_type": "markdown",
      "metadata": {
        "id": "kPNpzNYwkKAO"
      },
      "source": [
        "# Funções de Ordenação\n",
        "\n",
        "> Utilize este espaço para definir as funções de ordenação.\n",
        "\n"
      ]
    },
    {
      "cell_type": "markdown",
      "metadata": {
        "id": "nEw1UEsmoKMg"
      },
      "source": [
        "##  Insertion Sort\n"
      ]
    },
    {
      "cell_type": "code",
      "execution_count": 4,
      "metadata": {
        "id": "kbOrhdB-j_px"
      },
      "outputs": [],
      "source": [
        "def insertionSort(array):\n",
        "  for i in range(1, len(array)):\n",
        "    item = array[i]\n",
        "    j = i - 1\n",
        "    while j >= 0 and array[j] > item:\n",
        "      array[j+1] = array[j]\n",
        "      j -= 1\n",
        "    array[j+1] = item\n",
        "  return array"
      ]
    },
    {
      "cell_type": "markdown",
      "metadata": {
        "id": "9a-wJwU-wtmQ"
      },
      "source": [
        "##  Merge Sort\n"
      ]
    },
    {
      "cell_type": "code",
      "execution_count": 10,
      "metadata": {
        "id": "8cgIJ_4EwbPN"
      },
      "outputs": [],
      "source": [
        "def merge(array, begin, mid, end):\n",
        "  sizeLeft = mid - begin + 1\n",
        "  sizeRight = end - mid\n",
        "\n",
        "  L = np.arange(sizeLeft)\n",
        "  R = np.arange(sizeRight)\n",
        "\n",
        "  for i in range(0, sizeLeft):\n",
        "    L[i] = array[begin + i]\n",
        "  for i in range(sizeRight):\n",
        "    R[i] = array[mid + i + 1]\n",
        "\n",
        "  i = 0\n",
        "  j = 0\n",
        "  k = begin\n",
        "\n",
        "  while i < len(L) and j < len(R):\n",
        "    if L[i] <= R[j]:\n",
        "      array[k] = L[i]\n",
        "      i += 1\n",
        "    else:\n",
        "      array[k] = R[j]\n",
        "      j += 1\n",
        "    k += 1\n",
        " \n",
        "  while i < len(L):\n",
        "    array[k] = L[i]\n",
        "    i += 1\n",
        "    k += 1\n",
        "\n",
        "  while j < len(R):\n",
        "    array[k] = R[j]\n",
        "    j += 1\n",
        "    k += 1\n",
        "\n",
        "  return array\n",
        "\n",
        "def mergeSort(array, begin, end):\n",
        "  if begin < end:\n",
        "    mid = int((begin + end) / 2)\n",
        "    mergeSort(array, begin, mid)\n",
        "    mergeSort(array, mid + 1, end)\n",
        "\n",
        "    return merge(array, begin, mid, end)\n",
        "  \n",
        "  return array"
      ]
    },
    {
      "cell_type": "markdown",
      "metadata": {
        "id": "8dWpeYUvw-wU"
      },
      "source": [
        "##  Selection Sort\n"
      ]
    },
    {
      "cell_type": "code",
      "execution_count": 11,
      "metadata": {
        "id": "vNgUDShawygu"
      },
      "outputs": [],
      "source": [
        "def selectionSort(array):\n",
        "  for i in range(0, len(array) - 1):\n",
        "    positionMin = i\n",
        "    for j in range(i, len(array)):\n",
        "      if array[j] < array[positionMin]:\n",
        "        positionMin = j\n",
        "    temp = array[i]\n",
        "    array[i] = array[positionMin]\n",
        "    array[positionMin] = temp\n",
        "  return array"
      ]
    },
    {
      "cell_type": "markdown",
      "metadata": {
        "id": "zNI1kX0yyDrs"
      },
      "source": [
        "##  Bubble Sort\n"
      ]
    },
    {
      "cell_type": "code",
      "execution_count": 12,
      "metadata": {
        "id": "6X_zk1yWxMQS"
      },
      "outputs": [],
      "source": [
        "def bubbleSort(array):\n",
        "  for i in range(len(array) - 1):\n",
        "    for j in range(len(array) - i - 1):\n",
        "      if array[j] > array[j + 1]:\n",
        "        aux = array[j]\n",
        "        array[j] = array[j + 1]\n",
        "        array[j + 1] = aux\n",
        "  return array"
      ]
    },
    {
      "cell_type": "markdown",
      "metadata": {
        "id": "vk4vOTkKyLB-"
      },
      "source": [
        "## Heap Sort"
      ]
    },
    {
      "cell_type": "code",
      "execution_count": 67,
      "metadata": {
        "id": "39a7xXzLyH9g"
      },
      "outputs": [],
      "source": [
        "def heapify(array, i):\n",
        "  size = len(array)\n",
        "  l = 2 * i + 1\n",
        "  r = 2 * i + 2\n",
        "\n",
        "  larger = i\n",
        "  if l < size and array[l] > array[larger]:\n",
        "    larger = l\n",
        " \n",
        "  if r < size and array[r] > array[larger]:\n",
        "    larger = r\n",
        " \n",
        "  if larger != i:\n",
        "    array[i], array[larger] = array[larger], array[i]\n",
        "    heapify(array, larger)\n",
        "\n",
        "\n",
        "def heapSort(array):\n",
        "  size = len(array)\n",
        "  for i in range(int(size / 2) - 1, -1, -1):\n",
        "    heapify(array, i)\n",
        "\n",
        "  for i in range(size - 1, -1, -1):\n",
        "    array[i], array[0] = array[0], array[i]\n",
        "    heapify(array, 0)\n",
        "\n",
        "  return array"
      ]
    },
    {
      "cell_type": "markdown",
      "metadata": {
        "id": "fFiGho5CyU3t"
      },
      "source": [
        "## Quick Sort com pivo sendo o ultimo elemento do arranjo\n",
        "\n",
        "> pivo = *A[A-comprimento]*"
      ]
    },
    {
      "cell_type": "code",
      "execution_count": 14,
      "metadata": {
        "id": "1Ie_N5CRyKY7"
      },
      "outputs": [],
      "source": [
        "def partition(array, begin, end):\n",
        "  pivo = array[end]\n",
        "  i = begin - 1\n",
        "\n",
        "  for j in range(begin, end):\n",
        "    if array[j] <= pivo:\n",
        "      i += 1\n",
        "      array[i], array[j] = array[j], array[i]\n",
        "\n",
        "  array[i + 1], array[end] = array[end], array[i + 1]\n",
        "  return i + 1\n",
        "\n",
        "def quickSort(array, begin, end):\n",
        "  if begin < end:\n",
        "    mid = partition(array, begin, end)\n",
        "    quickSort(array, begin, mid - 1)\n",
        "    quickSort(array, mid + 1, end)\n",
        "\n",
        "  return array"
      ]
    },
    {
      "cell_type": "markdown",
      "metadata": {
        "id": "VomdAnCrzEv1"
      },
      "source": [
        "# Questões"
      ]
    },
    {
      "cell_type": "markdown",
      "metadata": {
        "id": "3QKV979kzItD"
      },
      "source": [
        "\n",
        "\n",
        "1.   Escolha pelo menos 3 arranjos. Ex: ***A[5,...,1000,...,100]*** e mostre o funcionamento dos Algoritmos realizando a ordenação.\n",
        "\n",
        "\n",
        "\n"
      ]
    },
    {
      "cell_type": "code",
      "execution_count": 6,
      "metadata": {
        "colab": {
          "base_uri": "https://localhost:8080/"
        },
        "id": "gWSQuA4ZwbsZ",
        "outputId": "5ef0c47f-3ac3-410f-ed80-76df4d0aaac5"
      },
      "outputs": [
        {
          "name": "stdout",
          "output_type": "stream",
          "text": [
            "[47 90 39 93 12 56 31 60 90 25 48]\n",
            "[93 86 75 15  3 86]\n",
            "[88 75 90 71 35 57 10 72]\n"
          ]
        }
      ],
      "source": [
        "array1 = generateArray(10, 0, 100)\n",
        "array2 = generateArray(5, 0, 100)\n",
        "array3 = generateArray(7, 0, 100)\n",
        "\n",
        "print(array1)\n",
        "print(array2)\n",
        "print(array3)"
      ]
    },
    {
      "cell_type": "markdown",
      "metadata": {
        "id": "pPb96GNc7x_a"
      },
      "source": [
        "## Insertion sort"
      ]
    },
    {
      "cell_type": "code",
      "execution_count": 7,
      "metadata": {
        "colab": {
          "base_uri": "https://localhost:8080/"
        },
        "id": "nBfs279_1Vko",
        "outputId": "a53b96b9-c48c-469d-8d88-82ce7869f04a"
      },
      "outputs": [
        {
          "name": "stdout",
          "output_type": "stream",
          "text": [
            "[12 25 31 39 47 48 56 60 90 90 93]\n",
            "[ 3 15 75 86 86 93]\n",
            "[10 35 57 71 72 75 88 90]\n"
          ]
        }
      ],
      "source": [
        "copyArray1 = np.copy(array1)\n",
        "copyArray2 = np.copy(array2)\n",
        "copyArray3 = np.copy(array3)\n",
        "\n",
        "print(insertionSort(copyArray1))\n",
        "print(insertionSort(copyArray2))\n",
        "print(insertionSort(copyArray3))"
      ]
    },
    {
      "cell_type": "markdown",
      "metadata": {
        "id": "lW4cIQ9i79uZ"
      },
      "source": [
        "## Selection sort"
      ]
    },
    {
      "cell_type": "code",
      "execution_count": 70,
      "metadata": {
        "colab": {
          "base_uri": "https://localhost:8080/"
        },
        "id": "F295dssXvQfk",
        "outputId": "4f461d7f-e01c-45cd-9633-4ca2269be36b"
      },
      "outputs": [
        {
          "name": "stdout",
          "output_type": "stream",
          "text": [
            "[ 3  9 32 34 37 38 38 42 60 65 74]\n",
            "[29 39 49 57 68 87]\n",
            "[ 9 34 42 50 73 91 93 95]\n"
          ]
        }
      ],
      "source": [
        "copyArray1 = np.copy(array1)\n",
        "copyArray2 = np.copy(array2)\n",
        "copyArray3 = np.copy(array3)\n",
        "\n",
        "print(selectionSort(copyArray1))\n",
        "print(selectionSort(copyArray2))\n",
        "print(selectionSort(copyArray3))"
      ]
    },
    {
      "cell_type": "markdown",
      "metadata": {
        "id": "SHl5_7gs8GZn"
      },
      "source": [
        "## Bubble sort"
      ]
    },
    {
      "cell_type": "code",
      "execution_count": 71,
      "metadata": {
        "colab": {
          "base_uri": "https://localhost:8080/"
        },
        "id": "s9juKGJrvwHw",
        "outputId": "dd4dcbf8-52c3-427a-f43b-ad4a11da9f8d"
      },
      "outputs": [
        {
          "name": "stdout",
          "output_type": "stream",
          "text": [
            "[ 3  9 32 34 37 38 38 42 60 65 74]\n",
            "[29 39 49 57 68 87]\n",
            "[ 9 34 42 50 73 91 93 95]\n"
          ]
        }
      ],
      "source": [
        "copyArray1 = np.copy(array1)\n",
        "copyArray2 = np.copy(array2)\n",
        "copyArray3 = np.copy(array3)\n",
        "\n",
        "print(bubbleSort(copyArray1))\n",
        "print(bubbleSort(copyArray2))\n",
        "print(bubbleSort(copyArray3))"
      ]
    },
    {
      "cell_type": "markdown",
      "metadata": {
        "id": "5REjmrln8LWZ"
      },
      "source": [
        "## Heap sort"
      ]
    },
    {
      "cell_type": "code",
      "execution_count": 72,
      "metadata": {
        "colab": {
          "base_uri": "https://localhost:8080/"
        },
        "id": "mW-GzTztwI-O",
        "outputId": "4d23cd35-0ec2-4377-d07f-9d04287e0395"
      },
      "outputs": [
        {
          "name": "stdout",
          "output_type": "stream",
          "text": [
            "[74 65 60 42 37 38 38  9  3 32 34]\n",
            "[87 68 39 57 49 29]\n",
            "[95 93 42 91 73 34  9 50]\n"
          ]
        }
      ],
      "source": [
        "copyArray1 = np.copy(array1)\n",
        "copyArray2 = np.copy(array2)\n",
        "copyArray3 = np.copy(array3)\n",
        "\n",
        "print(heapSort(copyArray1))\n",
        "print(heapSort(copyArray2))\n",
        "print(heapSort(copyArray3))"
      ]
    },
    {
      "cell_type": "markdown",
      "metadata": {
        "id": "K8ZJZN338Qma"
      },
      "source": [
        "## Merge sort"
      ]
    },
    {
      "cell_type": "code",
      "execution_count": 73,
      "metadata": {
        "colab": {
          "base_uri": "https://localhost:8080/"
        },
        "id": "hx4GlukxvEwv",
        "outputId": "b651ce9b-c6b5-4c75-8cda-f67ab66b8c29"
      },
      "outputs": [
        {
          "name": "stdout",
          "output_type": "stream",
          "text": [
            "[ 3  9 32 34 37 38 38 42 60 65 74]\n",
            "[29 39 49 57 68 87]\n",
            "[ 9 34 42 50 73 91 93 95]\n"
          ]
        }
      ],
      "source": [
        "copyArray1 = np.copy(array1)\n",
        "copyArray2 = np.copy(array2)\n",
        "copyArray3 = np.copy(array3)\n",
        "\n",
        "print(mergeSort(copyArray1, 0, len(copyArray1) - 1))\n",
        "print(mergeSort(copyArray2, 0, len(copyArray2) - 1))\n",
        "print(mergeSort(copyArray3, 0, len(copyArray3) - 1))"
      ]
    },
    {
      "cell_type": "markdown",
      "metadata": {
        "id": "4Ylnaqq58UYy"
      },
      "source": [
        "## Quick sort"
      ]
    },
    {
      "cell_type": "code",
      "execution_count": 74,
      "metadata": {
        "colab": {
          "base_uri": "https://localhost:8080/"
        },
        "id": "FY98pg3sv9WH",
        "outputId": "24c4fc02-eb1f-4623-8736-a41a50c7b6d3"
      },
      "outputs": [
        {
          "name": "stdout",
          "output_type": "stream",
          "text": [
            "[ 3  9 32 34 37 38 38 42 60 65 74]\n",
            "[29 39 49 57 68 87]\n",
            "[ 9 34 42 50 73 91 93 95]\n"
          ]
        }
      ],
      "source": [
        "copyArray1 = np.copy(array1)\n",
        "copyArray2 = np.copy(array2)\n",
        "copyArray3 = np.copy(array3)\n",
        "\n",
        "print(quickSort(copyArray1, 0, len(copyArray1) - 1))\n",
        "print(quickSort(copyArray2, 0, len(copyArray2) - 1))\n",
        "print(quickSort(copyArray3, 0, len(copyArray3) - 1))"
      ]
    }
  ],
  "metadata": {
    "colab": {
      "collapsed_sections": [
        "9a-wJwU-wtmQ",
        "vk4vOTkKyLB-"
      ],
      "provenance": [],
      "toc_visible": true
    },
    "kernelspec": {
      "display_name": "Python 3.8.10 64-bit",
      "language": "python",
      "name": "python3"
    },
    "language_info": {
      "codemirror_mode": {
        "name": "ipython",
        "version": 3
      },
      "file_extension": ".py",
      "mimetype": "text/x-python",
      "name": "python",
      "nbconvert_exporter": "python",
      "pygments_lexer": "ipython3",
      "version": "3.8.10"
    },
    "vscode": {
      "interpreter": {
        "hash": "916dbcbb3f70747c44a77c7bcd40155683ae19c65e1c03b4aa3499c5328201f1"
      }
    }
  },
  "nbformat": 4,
  "nbformat_minor": 0
}
